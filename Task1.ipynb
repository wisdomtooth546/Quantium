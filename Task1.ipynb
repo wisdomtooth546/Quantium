{
 "metadata": {
  "language_info": {
   "codemirror_mode": {
    "name": "ipython",
    "version": 3
   },
   "file_extension": ".py",
   "mimetype": "text/x-python",
   "name": "python",
   "nbconvert_exporter": "python",
   "pygments_lexer": "ipython3",
   "version": "3.8.3"
  },
  "orig_nbformat": 2,
  "kernelspec": {
   "name": "python3",
   "display_name": "Python 3",
   "language": "python"
  }
 },
 "nbformat": 4,
 "nbformat_minor": 2,
 "cells": [
  {
   "cell_type": "code",
   "execution_count": 1,
   "metadata": {},
   "outputs": [],
   "source": [
    "import pandas as pd\n",
    "import numpy as np\n",
    "import datetime as dt\n",
    "import re"
   ]
  },
  {
   "source": [
    "<h2>Data Wrangling</h2>"
   ],
   "cell_type": "markdown",
   "metadata": {}
  },
  {
   "cell_type": "code",
   "execution_count": 2,
   "metadata": {},
   "outputs": [],
   "source": [
    "data = pd.read_excel('QVI_transaction_data.xlsx')"
   ]
  },
  {
   "cell_type": "code",
   "execution_count": 3,
   "metadata": {},
   "outputs": [
    {
     "output_type": "execute_result",
     "data": {
      "text/plain": [
       "    DATE  STORE_NBR  LYLTY_CARD_NBR  TXN_ID  PROD_NBR  \\\n",
       "0  43390          1            1000       1         5   \n",
       "1  43599          1            1307     348        66   \n",
       "2  43605          1            1343     383        61   \n",
       "3  43329          2            2373     974        69   \n",
       "4  43330          2            2426    1038       108   \n",
       "\n",
       "                                  PROD_NAME  PROD_QTY  TOT_SALES  \n",
       "0   Natural Chip        Compny SeaSalt 175g         2        6.0  \n",
       "1                  CCs Nacho Cheese    175g         3        6.3  \n",
       "2    Smiths Crinkle Cut  Chips Chicken 170g         2        2.9  \n",
       "3    Smiths Chip Thinly  S/Cream&Onion 175g         5       15.0  \n",
       "4  Kettle Tortilla ChpsHny&Jlpno Chili 150g         3       13.8  "
      ],
      "text/html": "<div>\n<style scoped>\n    .dataframe tbody tr th:only-of-type {\n        vertical-align: middle;\n    }\n\n    .dataframe tbody tr th {\n        vertical-align: top;\n    }\n\n    .dataframe thead th {\n        text-align: right;\n    }\n</style>\n<table border=\"1\" class=\"dataframe\">\n  <thead>\n    <tr style=\"text-align: right;\">\n      <th></th>\n      <th>DATE</th>\n      <th>STORE_NBR</th>\n      <th>LYLTY_CARD_NBR</th>\n      <th>TXN_ID</th>\n      <th>PROD_NBR</th>\n      <th>PROD_NAME</th>\n      <th>PROD_QTY</th>\n      <th>TOT_SALES</th>\n    </tr>\n  </thead>\n  <tbody>\n    <tr>\n      <th>0</th>\n      <td>43390</td>\n      <td>1</td>\n      <td>1000</td>\n      <td>1</td>\n      <td>5</td>\n      <td>Natural Chip        Compny SeaSalt 175g</td>\n      <td>2</td>\n      <td>6.0</td>\n    </tr>\n    <tr>\n      <th>1</th>\n      <td>43599</td>\n      <td>1</td>\n      <td>1307</td>\n      <td>348</td>\n      <td>66</td>\n      <td>CCs Nacho Cheese    175g</td>\n      <td>3</td>\n      <td>6.3</td>\n    </tr>\n    <tr>\n      <th>2</th>\n      <td>43605</td>\n      <td>1</td>\n      <td>1343</td>\n      <td>383</td>\n      <td>61</td>\n      <td>Smiths Crinkle Cut  Chips Chicken 170g</td>\n      <td>2</td>\n      <td>2.9</td>\n    </tr>\n    <tr>\n      <th>3</th>\n      <td>43329</td>\n      <td>2</td>\n      <td>2373</td>\n      <td>974</td>\n      <td>69</td>\n      <td>Smiths Chip Thinly  S/Cream&amp;Onion 175g</td>\n      <td>5</td>\n      <td>15.0</td>\n    </tr>\n    <tr>\n      <th>4</th>\n      <td>43330</td>\n      <td>2</td>\n      <td>2426</td>\n      <td>1038</td>\n      <td>108</td>\n      <td>Kettle Tortilla ChpsHny&amp;Jlpno Chili 150g</td>\n      <td>3</td>\n      <td>13.8</td>\n    </tr>\n  </tbody>\n</table>\n</div>"
     },
     "metadata": {},
     "execution_count": 3
    }
   ],
   "source": [
    "data.head()"
   ]
  },
  {
   "cell_type": "code",
   "execution_count": 4,
   "metadata": {},
   "outputs": [
    {
     "output_type": "execute_result",
     "data": {
      "text/plain": [
       "DATE                int64\n",
       "STORE_NBR           int64\n",
       "LYLTY_CARD_NBR      int64\n",
       "TXN_ID              int64\n",
       "PROD_NBR            int64\n",
       "PROD_NAME          object\n",
       "PROD_QTY            int64\n",
       "TOT_SALES         float64\n",
       "dtype: object"
      ]
     },
     "metadata": {},
     "execution_count": 4
    }
   ],
   "source": [
    "data.dtypes"
   ]
  },
  {
   "source": [
    "<h2>Fixing the datatypes</h2>"
   ],
   "cell_type": "markdown",
   "metadata": {}
  },
  {
   "cell_type": "code",
   "execution_count": 1,
   "metadata": {},
   "outputs": [
    {
     "output_type": "error",
     "ename": "NameError",
     "evalue": "name 'pd' is not defined",
     "traceback": [
      "\u001b[1;31m---------------------------------------------------------------------------\u001b[0m",
      "\u001b[1;31mNameError\u001b[0m                                 Traceback (most recent call last)",
      "\u001b[1;32m<ipython-input-1-55f29f578728>\u001b[0m in \u001b[0;36m<module>\u001b[1;34m\u001b[0m\n\u001b[1;32m----> 1\u001b[1;33m \u001b[0mdata\u001b[0m\u001b[1;33m[\u001b[0m\u001b[1;34m'DATE'\u001b[0m\u001b[1;33m]\u001b[0m \u001b[1;33m=\u001b[0m \u001b[0mpd\u001b[0m\u001b[1;33m.\u001b[0m\u001b[0mto_datetime\u001b[0m\u001b[1;33m(\u001b[0m\u001b[0mdata\u001b[0m\u001b[1;33m[\u001b[0m\u001b[1;34m'DATE'\u001b[0m\u001b[1;33m]\u001b[0m\u001b[1;33m)\u001b[0m\u001b[1;33m\u001b[0m\u001b[1;33m\u001b[0m\u001b[0m\n\u001b[0m",
      "\u001b[1;31mNameError\u001b[0m: name 'pd' is not defined"
     ]
    }
   ],
   "source": [
    "data['DATE'] = pd.TimedeltaIndex(data['DATE'], unit='d') + dt.datetime(1899,12,30)"
   ]
  },
  {
   "cell_type": "code",
   "execution_count": 6,
   "metadata": {},
   "outputs": [
    {
     "output_type": "execute_result",
     "data": {
      "text/plain": [
       "DATE              datetime64[ns]\n",
       "STORE_NBR                  int64\n",
       "LYLTY_CARD_NBR             int64\n",
       "TXN_ID                     int64\n",
       "PROD_NBR                   int64\n",
       "PROD_NAME                 object\n",
       "PROD_QTY                   int64\n",
       "TOT_SALES                float64\n",
       "dtype: object"
      ]
     },
     "metadata": {},
     "execution_count": 6
    }
   ],
   "source": [
    "data.dtypes"
   ]
  },
  {
   "source": [
    "<h2>Fixing the PROD_NAME column</h2>"
   ],
   "cell_type": "markdown",
   "metadata": {}
  },
  {
   "cell_type": "code",
   "execution_count": 7,
   "metadata": {},
   "outputs": [],
   "source": [
    "product_names = data.PROD_NAME.unique()"
   ]
  },
  {
   "cell_type": "code",
   "execution_count": 8,
   "metadata": {},
   "outputs": [
    {
     "output_type": "execute_result",
     "data": {
      "text/plain": [
       "array(['Natural Chip        Compny SeaSalt 175g',\n",
       "       'CCs Nacho Cheese    175g',\n",
       "       'Smiths Crinkle Cut  Chips Chicken 170g',\n",
       "       'Smiths Chip Thinly  S/Cream&Onion 175g',\n",
       "       'Kettle Tortilla ChpsHny&Jlpno Chili 150g',\n",
       "       'Old El Paso Salsa   Dip Tomato Mild 300g',\n",
       "       'Smiths Crinkle Chips Salt & Vinegar 330g',\n",
       "       'Grain Waves         Sweet Chilli 210g',\n",
       "       'Doritos Corn Chip Mexican Jalapeno 150g',\n",
       "       'Grain Waves Sour    Cream&Chives 210G',\n",
       "       'Kettle Sensations   Siracha Lime 150g',\n",
       "       'Twisties Cheese     270g', 'WW Crinkle Cut      Chicken 175g',\n",
       "       'Thins Chips Light&  Tangy 175g', 'CCs Original 175g',\n",
       "       'Burger Rings 220g', 'NCC Sour Cream &    Garden Chives 175g',\n",
       "       'Doritos Corn Chip Southern Chicken 150g',\n",
       "       'Cheezels Cheese Box 125g', 'Smiths Crinkle      Original 330g',\n",
       "       'Infzns Crn Crnchers Tangy Gcamole 110g',\n",
       "       'Kettle Sea Salt     And Vinegar 175g',\n",
       "       'Smiths Chip Thinly  Cut Original 175g', 'Kettle Original 175g',\n",
       "       'Red Rock Deli Thai  Chilli&Lime 150g',\n",
       "       'Pringles Sthrn FriedChicken 134g', 'Pringles Sweet&Spcy BBQ 134g',\n",
       "       'Red Rock Deli SR    Salsa & Mzzrlla 150g',\n",
       "       'Thins Chips         Originl saltd 175g',\n",
       "       'Red Rock Deli Sp    Salt & Truffle 150G',\n",
       "       'Smiths Thinly       Swt Chli&S/Cream175G', 'Kettle Chilli 175g',\n",
       "       'Doritos Mexicana    170g',\n",
       "       'Smiths Crinkle Cut  French OnionDip 150g',\n",
       "       'Natural ChipCo      Hony Soy Chckn175g',\n",
       "       'Dorito Corn Chp     Supreme 380g', 'Twisties Chicken270g',\n",
       "       'Smiths Thinly Cut   Roast Chicken 175g',\n",
       "       'Smiths Crinkle Cut  Tomato Salsa 150g',\n",
       "       'Kettle Mozzarella   Basil & Pesto 175g',\n",
       "       'Infuzions Thai SweetChili PotatoMix 110g',\n",
       "       'Kettle Sensations   Camembert & Fig 150g',\n",
       "       'Smith Crinkle Cut   Mac N Cheese 150g',\n",
       "       'Kettle Honey Soy    Chicken 175g',\n",
       "       'Thins Chips Seasonedchicken 175g',\n",
       "       'Smiths Crinkle Cut  Salt & Vinegar 170g',\n",
       "       'Infuzions BBQ Rib   Prawn Crackers 110g',\n",
       "       'GrnWves Plus Btroot & Chilli Jam 180g',\n",
       "       'Tyrrells Crisps     Lightly Salted 165g',\n",
       "       'Kettle Sweet Chilli And Sour Cream 175g',\n",
       "       'Doritos Salsa       Medium 300g', 'Kettle 135g Swt Pot Sea Salt',\n",
       "       'Pringles SourCream  Onion 134g',\n",
       "       'Doritos Corn Chips  Original 170g',\n",
       "       'Twisties Cheese     Burger 250g',\n",
       "       'Old El Paso Salsa   Dip Chnky Tom Ht300g',\n",
       "       'Cobs Popd Swt/Chlli &Sr/Cream Chips 110g',\n",
       "       'Woolworths Mild     Salsa 300g',\n",
       "       'Natural Chip Co     Tmato Hrb&Spce 175g',\n",
       "       'Smiths Crinkle Cut  Chips Original 170g',\n",
       "       'Cobs Popd Sea Salt  Chips 110g',\n",
       "       'Smiths Crinkle Cut  Chips Chs&Onion170g',\n",
       "       'French Fries Potato Chips 175g',\n",
       "       'Old El Paso Salsa   Dip Tomato Med 300g',\n",
       "       'Doritos Corn Chips  Cheese Supreme 170g',\n",
       "       'Pringles Original   Crisps 134g',\n",
       "       'RRD Chilli&         Coconut 150g',\n",
       "       'WW Original Corn    Chips 200g',\n",
       "       'Thins Potato Chips  Hot & Spicy 175g',\n",
       "       'Cobs Popd Sour Crm  &Chives Chips 110g',\n",
       "       'Smiths Crnkle Chip  Orgnl Big Bag 380g',\n",
       "       'Doritos Corn Chips  Nacho Cheese 170g',\n",
       "       'Kettle Sensations   BBQ&Maple 150g',\n",
       "       'WW D/Style Chip     Sea Salt 200g',\n",
       "       'Pringles Chicken    Salt Crips 134g',\n",
       "       'WW Original Stacked Chips 160g',\n",
       "       'Smiths Chip Thinly  CutSalt/Vinegr175g', 'Cheezels Cheese 330g',\n",
       "       'Tostitos Lightly    Salted 175g',\n",
       "       'Thins Chips Salt &  Vinegar 175g',\n",
       "       'Smiths Crinkle Cut  Chips Barbecue 170g', 'Cheetos Puffs 165g',\n",
       "       'RRD Sweet Chilli &  Sour Cream 165g',\n",
       "       'WW Crinkle Cut      Original 175g',\n",
       "       'Tostitos Splash Of  Lime 175g', 'Woolworths Medium   Salsa 300g',\n",
       "       'Kettle Tortilla ChpsBtroot&Ricotta 150g',\n",
       "       'CCs Tasty Cheese    175g', 'Woolworths Cheese   Rings 190g',\n",
       "       'Tostitos Smoked     Chipotle 175g', 'Pringles Barbeque   134g',\n",
       "       'WW Supreme Cheese   Corn Chips 200g',\n",
       "       'Pringles Mystery    Flavour 134g',\n",
       "       'Tyrrells Crisps     Ched & Chives 165g',\n",
       "       'Snbts Whlgrn Crisps Cheddr&Mstrd 90g',\n",
       "       'Cheetos Chs & Bacon Balls 190g', 'Pringles Slt Vingar 134g',\n",
       "       'Infuzions SourCream&Herbs Veg Strws 110g',\n",
       "       'Kettle Tortilla ChpsFeta&Garlic 150g',\n",
       "       'Natural Chip        Compny SeaSalt175g',\n",
       "       'Infuzions Mango     Chutny Papadums 70g',\n",
       "       'RRD Steak &         Chimuchurri 150g',\n",
       "       'RRD Honey Soy       Chicken 165g',\n",
       "       'Sunbites Whlegrn    Crisps Frch/Onin 90g',\n",
       "       'RRD Salt & Vinegar  165g', 'Doritos Cheese      Supreme 330g',\n",
       "       'Smiths Crinkle Cut  Snag&Sauce 150g',\n",
       "       'WW Sour Cream &OnionStacked Chips 160g',\n",
       "       'RRD Lime & Pepper   165g',\n",
       "       'Natural ChipCo Sea  Salt & Vinegr 175g',\n",
       "       'Red Rock Deli Chikn&Garlic Aioli 150g',\n",
       "       'RRD SR Slow Rst     Pork Belly 150g', 'RRD Pc Sea Salt     165g',\n",
       "       'Smith Crinkle Cut   Bolognese 150g', 'Doritos Salsa Mild  300g'],\n",
       "      dtype=object)"
      ]
     },
     "metadata": {},
     "execution_count": 8
    }
   ],
   "source": [
    "product_names"
   ]
  },
  {
   "cell_type": "code",
   "execution_count": 9,
   "metadata": {},
   "outputs": [],
   "source": [
    "df = data['PROD_NAME'].map(lambda x: re.sub(r'\\W+[0-9]+g', ' ', x))"
   ]
  },
  {
   "cell_type": "code",
   "execution_count": 10,
   "metadata": {},
   "outputs": [],
   "source": [
    "product_names = pd.Series(df.unique())"
   ]
  },
  {
   "cell_type": "code",
   "execution_count": 11,
   "metadata": {},
   "outputs": [
    {
     "output_type": "execute_result",
     "data": {
      "text/plain": [
       "Woolworths Mild     Salsa                   1\n",
       "Smiths Crinkle Cut  Chips Original          1\n",
       "WW Crinkle Cut      Chicken                 1\n",
       "Kettle Tortilla ChpsHny&Jlpno Chili         1\n",
       "Sunbites Whlegrn    Crisps Frch/Onin        1\n",
       "                                           ..\n",
       "RRD Sweet Chilli &  Sour Cream              1\n",
       "Pringles Sweet&Spcy BBQ                     1\n",
       "Natural ChipCo      Hony Soy Chckn175g      1\n",
       "Old El Paso Salsa   Dip Chnky Tom Ht300g    1\n",
       "Smiths Crinkle      Original                1\n",
       "Length: 115, dtype: int64"
      ]
     },
     "metadata": {},
     "execution_count": 11
    }
   ],
   "source": [
    "product_names.value_counts()"
   ]
  },
  {
   "cell_type": "code",
   "execution_count": 12,
   "metadata": {},
   "outputs": [],
   "source": [
    "counts = dict()\n",
    "for i in range(len(product_names)):\n",
    "  words = product_names[i]\n",
    "  for word in words.split(' '):\n",
    "        if word in counts:\n",
    "            counts[word] += 1\n",
    "        else:\n",
    "            counts[word] = 1\n"
   ]
  },
  {
   "cell_type": "code",
   "execution_count": 13,
   "metadata": {},
   "outputs": [
    {
     "output_type": "execute_result",
     "data": {
      "text/plain": [
       "{'Natural': 5,\n",
       " 'Chip': 10,\n",
       " '': 324,\n",
       " 'Compny': 2,\n",
       " 'SeaSalt': 1,\n",
       " 'CCs': 3,\n",
       " 'Nacho': 2,\n",
       " 'Cheese': 12,\n",
       " 'Smiths': 16,\n",
       " 'Crinkle': 14,\n",
       " 'Cut': 14,\n",
       " 'Chips': 21,\n",
       " 'Chicken': 7,\n",
       " 'Thinly': 5,\n",
       " 'S/Cream&Onion': 1,\n",
       " 'Kettle': 13,\n",
       " 'Tortilla': 3,\n",
       " 'ChpsHny&Jlpno': 1,\n",
       " 'Chili': 1,\n",
       " 'Old': 3,\n",
       " 'El': 3,\n",
       " 'Paso': 3,\n",
       " 'Salsa': 9,\n",
       " 'Dip': 3,\n",
       " 'Tomato': 3,\n",
       " 'Mild': 3,\n",
       " 'Salt': 12,\n",
       " '&': 17,\n",
       " 'Vinegar': 5,\n",
       " 'Grain': 2,\n",
       " 'Waves': 2,\n",
       " 'Sweet': 3,\n",
       " 'Chilli': 5,\n",
       " 'Doritos': 9,\n",
       " 'Corn': 8,\n",
       " 'Mexican': 1,\n",
       " 'Jalapeno': 1,\n",
       " 'Sour': 6,\n",
       " 'Cream&Chives': 1,\n",
       " '210G': 1,\n",
       " 'Sensations': 3,\n",
       " 'Siracha': 1,\n",
       " 'Lime': 3,\n",
       " 'Twisties': 3,\n",
       " 'WW': 7,\n",
       " 'Thins': 5,\n",
       " 'Light&': 1,\n",
       " 'Tangy': 2,\n",
       " 'Original': 10,\n",
       " 'Burger': 2,\n",
       " 'Rings': 2,\n",
       " 'NCC': 1,\n",
       " 'Cream': 4,\n",
       " 'Garden': 1,\n",
       " 'Chives': 2,\n",
       " 'Southern': 1,\n",
       " 'Cheezels': 2,\n",
       " 'Box': 1,\n",
       " 'Infzns': 1,\n",
       " 'Crn': 1,\n",
       " 'Crnchers': 1,\n",
       " 'Gcamole': 1,\n",
       " 'Sea': 6,\n",
       " 'And': 2,\n",
       " 'Red': 4,\n",
       " 'Rock': 4,\n",
       " 'Deli': 4,\n",
       " 'Thai': 2,\n",
       " 'Chilli&Lime': 1,\n",
       " 'Pringles': 8,\n",
       " 'Sthrn': 1,\n",
       " 'FriedChicken': 1,\n",
       " 'Sweet&Spcy': 1,\n",
       " 'BBQ': 2,\n",
       " 'SR': 2,\n",
       " 'Mzzrlla': 1,\n",
       " 'Originl': 1,\n",
       " 'saltd': 1,\n",
       " 'Sp': 1,\n",
       " 'Truffle': 1,\n",
       " '150G': 1,\n",
       " 'Swt': 2,\n",
       " 'Chli&S/Cream175G': 1,\n",
       " 'Mexicana': 1,\n",
       " 'French': 2,\n",
       " 'OnionDip': 1,\n",
       " 'ChipCo': 2,\n",
       " 'Hony': 1,\n",
       " 'Soy': 3,\n",
       " 'Chckn175g': 1,\n",
       " 'Dorito': 1,\n",
       " 'Chp': 1,\n",
       " 'Supreme': 4,\n",
       " 'Chicken270g': 1,\n",
       " 'Roast': 1,\n",
       " 'Mozzarella': 1,\n",
       " 'Basil': 1,\n",
       " 'Pesto': 1,\n",
       " 'Infuzions': 4,\n",
       " 'SweetChili': 1,\n",
       " 'PotatoMix': 1,\n",
       " 'Camembert': 1,\n",
       " 'Fig': 1,\n",
       " 'Smith': 2,\n",
       " 'Mac': 1,\n",
       " 'N': 1,\n",
       " 'Honey': 2,\n",
       " 'Seasonedchicken': 1,\n",
       " 'Rib': 1,\n",
       " 'Prawn': 1,\n",
       " 'Crackers': 1,\n",
       " 'GrnWves': 1,\n",
       " 'Plus': 1,\n",
       " 'Btroot': 1,\n",
       " 'Jam': 1,\n",
       " 'Tyrrells': 2,\n",
       " 'Crisps': 5,\n",
       " 'Lightly': 2,\n",
       " 'Salted': 2,\n",
       " 'Medium': 2,\n",
       " 'Pot': 1,\n",
       " 'SourCream': 1,\n",
       " 'Onion': 1,\n",
       " 'Chnky': 1,\n",
       " 'Tom': 1,\n",
       " 'Ht300g': 1,\n",
       " 'Cobs': 3,\n",
       " 'Popd': 3,\n",
       " 'Swt/Chlli': 1,\n",
       " '&Sr/Cream': 1,\n",
       " 'Woolworths': 3,\n",
       " 'Co': 1,\n",
       " 'Tmato': 1,\n",
       " 'Hrb&Spce': 1,\n",
       " 'Chs&Onion170g': 1,\n",
       " 'Fries': 1,\n",
       " 'Potato': 2,\n",
       " 'Med': 1,\n",
       " 'RRD': 8,\n",
       " 'Chilli&': 1,\n",
       " 'Coconut': 1,\n",
       " 'Hot': 1,\n",
       " 'Spicy': 1,\n",
       " 'Crm': 1,\n",
       " '&Chives': 1,\n",
       " 'Crnkle': 1,\n",
       " 'Orgnl': 1,\n",
       " 'Big': 1,\n",
       " 'Bag': 1,\n",
       " 'BBQ&Maple': 1,\n",
       " 'D/Style': 1,\n",
       " 'Crips': 1,\n",
       " 'Stacked': 1,\n",
       " 'CutSalt/Vinegr175g': 1,\n",
       " 'Tostitos': 3,\n",
       " 'Barbecue': 1,\n",
       " 'Cheetos': 2,\n",
       " 'Puffs': 1,\n",
       " 'Splash': 1,\n",
       " 'Of': 1,\n",
       " 'ChpsBtroot&Ricotta': 1,\n",
       " 'Tasty': 1,\n",
       " 'Smoked': 1,\n",
       " 'Chipotle': 1,\n",
       " 'Barbeque': 1,\n",
       " 'Mystery': 1,\n",
       " 'Flavour': 1,\n",
       " 'Ched': 1,\n",
       " 'Snbts': 1,\n",
       " 'Whlgrn': 1,\n",
       " 'Cheddr&Mstrd': 1,\n",
       " 'Chs': 1,\n",
       " 'Bacon': 1,\n",
       " 'Balls': 1,\n",
       " 'Slt': 1,\n",
       " 'Vingar': 1,\n",
       " 'SourCream&Herbs': 1,\n",
       " 'Veg': 1,\n",
       " 'Strws': 1,\n",
       " 'ChpsFeta&Garlic': 1,\n",
       " 'SeaSalt175g': 1,\n",
       " 'Mango': 1,\n",
       " 'Chutny': 1,\n",
       " 'Papadums': 1,\n",
       " 'Steak': 1,\n",
       " 'Chimuchurri': 1,\n",
       " 'Sunbites': 1,\n",
       " 'Whlegrn': 1,\n",
       " 'Frch/Onin': 1,\n",
       " 'Snag&Sauce': 1,\n",
       " '&OnionStacked': 1,\n",
       " 'Pepper': 1,\n",
       " 'Vinegr': 1,\n",
       " 'Chikn&Garlic': 1,\n",
       " 'Aioli': 1,\n",
       " 'Slow': 1,\n",
       " 'Rst': 1,\n",
       " 'Pork': 1,\n",
       " 'Belly': 1,\n",
       " 'Pc': 1,\n",
       " 'Bolognese': 1}"
      ]
     },
     "metadata": {},
     "execution_count": 13
    }
   ],
   "source": [
    "counts"
   ]
  },
  {
   "source": [
    "<h2>Filtering out salsa products</h2>"
   ],
   "cell_type": "markdown",
   "metadata": {}
  },
  {
   "cell_type": "code",
   "execution_count": 14,
   "metadata": {},
   "outputs": [
    {
     "output_type": "execute_result",
     "data": {
      "text/plain": [
       "0         False\n",
       "1         False\n",
       "2         False\n",
       "3         False\n",
       "4         False\n",
       "          ...  \n",
       "264831    False\n",
       "264832    False\n",
       "264833    False\n",
       "264834    False\n",
       "264835    False\n",
       "Name: PROD_NAME, Length: 264836, dtype: bool"
      ]
     },
     "metadata": {},
     "execution_count": 14
    }
   ],
   "source": [
    "df.str.contains(\"Salsa\")"
   ]
  },
  {
   "cell_type": "code",
   "execution_count": 15,
   "metadata": {},
   "outputs": [
    {
     "output_type": "execute_result",
     "data": {
      "text/plain": [
       "False    246742\n",
       "True      18094\n",
       "Name: PROD_NAME, dtype: int64"
      ]
     },
     "metadata": {},
     "execution_count": 15
    }
   ],
   "source": [
    "df.str.contains(\"Salsa\").value_counts()"
   ]
  },
  {
   "cell_type": "code",
   "execution_count": 16,
   "metadata": {},
   "outputs": [],
   "source": [
    "filter = df.str.contains(\"Salsa\")"
   ]
  },
  {
   "cell_type": "code",
   "execution_count": 17,
   "metadata": {},
   "outputs": [],
   "source": [
    "filtered_data = data[~filter]"
   ]
  },
  {
   "cell_type": "code",
   "execution_count": 18,
   "metadata": {},
   "outputs": [
    {
     "output_type": "execute_result",
     "data": {
      "text/plain": [
       "             DATE  STORE_NBR  LYLTY_CARD_NBR  TXN_ID  PROD_NBR  \\\n",
       "0      2018-10-17          1            1000       1         5   \n",
       "1      2019-05-14          1            1307     348        66   \n",
       "2      2019-05-20          1            1343     383        61   \n",
       "3      2018-08-17          2            2373     974        69   \n",
       "4      2018-08-18          2            2426    1038       108   \n",
       "...           ...        ...             ...     ...       ...   \n",
       "264831 2019-03-09        272          272319  270088        89   \n",
       "264832 2018-08-13        272          272358  270154        74   \n",
       "264833 2018-11-06        272          272379  270187        51   \n",
       "264834 2018-12-27        272          272379  270188        42   \n",
       "264835 2018-09-22        272          272380  270189        74   \n",
       "\n",
       "                                       PROD_NAME  PROD_QTY  TOT_SALES  \n",
       "0        Natural Chip        Compny SeaSalt 175g         2        6.0  \n",
       "1                       CCs Nacho Cheese    175g         3        6.3  \n",
       "2         Smiths Crinkle Cut  Chips Chicken 170g         2        2.9  \n",
       "3         Smiths Chip Thinly  S/Cream&Onion 175g         5       15.0  \n",
       "4       Kettle Tortilla ChpsHny&Jlpno Chili 150g         3       13.8  \n",
       "...                                          ...       ...        ...  \n",
       "264831   Kettle Sweet Chilli And Sour Cream 175g         2       10.8  \n",
       "264832             Tostitos Splash Of  Lime 175g         1        4.4  \n",
       "264833                  Doritos Mexicana    170g         2        8.8  \n",
       "264834   Doritos Corn Chip Mexican Jalapeno 150g         2        7.8  \n",
       "264835             Tostitos Splash Of  Lime 175g         2        8.8  \n",
       "\n",
       "[246742 rows x 8 columns]"
      ],
      "text/html": "<div>\n<style scoped>\n    .dataframe tbody tr th:only-of-type {\n        vertical-align: middle;\n    }\n\n    .dataframe tbody tr th {\n        vertical-align: top;\n    }\n\n    .dataframe thead th {\n        text-align: right;\n    }\n</style>\n<table border=\"1\" class=\"dataframe\">\n  <thead>\n    <tr style=\"text-align: right;\">\n      <th></th>\n      <th>DATE</th>\n      <th>STORE_NBR</th>\n      <th>LYLTY_CARD_NBR</th>\n      <th>TXN_ID</th>\n      <th>PROD_NBR</th>\n      <th>PROD_NAME</th>\n      <th>PROD_QTY</th>\n      <th>TOT_SALES</th>\n    </tr>\n  </thead>\n  <tbody>\n    <tr>\n      <th>0</th>\n      <td>2018-10-17</td>\n      <td>1</td>\n      <td>1000</td>\n      <td>1</td>\n      <td>5</td>\n      <td>Natural Chip        Compny SeaSalt 175g</td>\n      <td>2</td>\n      <td>6.0</td>\n    </tr>\n    <tr>\n      <th>1</th>\n      <td>2019-05-14</td>\n      <td>1</td>\n      <td>1307</td>\n      <td>348</td>\n      <td>66</td>\n      <td>CCs Nacho Cheese    175g</td>\n      <td>3</td>\n      <td>6.3</td>\n    </tr>\n    <tr>\n      <th>2</th>\n      <td>2019-05-20</td>\n      <td>1</td>\n      <td>1343</td>\n      <td>383</td>\n      <td>61</td>\n      <td>Smiths Crinkle Cut  Chips Chicken 170g</td>\n      <td>2</td>\n      <td>2.9</td>\n    </tr>\n    <tr>\n      <th>3</th>\n      <td>2018-08-17</td>\n      <td>2</td>\n      <td>2373</td>\n      <td>974</td>\n      <td>69</td>\n      <td>Smiths Chip Thinly  S/Cream&amp;Onion 175g</td>\n      <td>5</td>\n      <td>15.0</td>\n    </tr>\n    <tr>\n      <th>4</th>\n      <td>2018-08-18</td>\n      <td>2</td>\n      <td>2426</td>\n      <td>1038</td>\n      <td>108</td>\n      <td>Kettle Tortilla ChpsHny&amp;Jlpno Chili 150g</td>\n      <td>3</td>\n      <td>13.8</td>\n    </tr>\n    <tr>\n      <th>...</th>\n      <td>...</td>\n      <td>...</td>\n      <td>...</td>\n      <td>...</td>\n      <td>...</td>\n      <td>...</td>\n      <td>...</td>\n      <td>...</td>\n    </tr>\n    <tr>\n      <th>264831</th>\n      <td>2019-03-09</td>\n      <td>272</td>\n      <td>272319</td>\n      <td>270088</td>\n      <td>89</td>\n      <td>Kettle Sweet Chilli And Sour Cream 175g</td>\n      <td>2</td>\n      <td>10.8</td>\n    </tr>\n    <tr>\n      <th>264832</th>\n      <td>2018-08-13</td>\n      <td>272</td>\n      <td>272358</td>\n      <td>270154</td>\n      <td>74</td>\n      <td>Tostitos Splash Of  Lime 175g</td>\n      <td>1</td>\n      <td>4.4</td>\n    </tr>\n    <tr>\n      <th>264833</th>\n      <td>2018-11-06</td>\n      <td>272</td>\n      <td>272379</td>\n      <td>270187</td>\n      <td>51</td>\n      <td>Doritos Mexicana    170g</td>\n      <td>2</td>\n      <td>8.8</td>\n    </tr>\n    <tr>\n      <th>264834</th>\n      <td>2018-12-27</td>\n      <td>272</td>\n      <td>272379</td>\n      <td>270188</td>\n      <td>42</td>\n      <td>Doritos Corn Chip Mexican Jalapeno 150g</td>\n      <td>2</td>\n      <td>7.8</td>\n    </tr>\n    <tr>\n      <th>264835</th>\n      <td>2018-09-22</td>\n      <td>272</td>\n      <td>272380</td>\n      <td>270189</td>\n      <td>74</td>\n      <td>Tostitos Splash Of  Lime 175g</td>\n      <td>2</td>\n      <td>8.8</td>\n    </tr>\n  </tbody>\n</table>\n<p>246742 rows × 8 columns</p>\n</div>"
     },
     "metadata": {},
     "execution_count": 18
    }
   ],
   "source": [
    "filtered_data"
   ]
  },
  {
   "source": [
    "<h2>Checking data quality</h2>"
   ],
   "cell_type": "markdown",
   "metadata": {}
  },
  {
   "cell_type": "code",
   "execution_count": 20,
   "metadata": {},
   "outputs": [
    {
     "output_type": "execute_result",
     "data": {
      "text/plain": [
       "DATE              0\n",
       "STORE_NBR         0\n",
       "LYLTY_CARD_NBR    0\n",
       "TXN_ID            0\n",
       "PROD_NBR          0\n",
       "PROD_NAME         0\n",
       "PROD_QTY          0\n",
       "TOT_SALES         0\n",
       "dtype: int64"
      ]
     },
     "metadata": {},
     "execution_count": 20
    }
   ],
   "source": [
    "filtered_data.isnull().sum()"
   ]
  },
  {
   "cell_type": "code",
   "execution_count": 21,
   "metadata": {},
   "outputs": [
    {
     "output_type": "execute_result",
     "data": {
      "text/plain": [
       "           STORE_NBR  LYLTY_CARD_NBR        TXN_ID       PROD_NBR  \\\n",
       "count  246742.000000    2.467420e+05  2.467420e+05  246742.000000   \n",
       "mean      135.051098    1.355310e+05  1.351311e+05      56.351789   \n",
       "std        76.787096    8.071528e+04  7.814772e+04      33.695428   \n",
       "min         1.000000    1.000000e+03  1.000000e+00       1.000000   \n",
       "25%        70.000000    7.001500e+04  6.756925e+04      26.000000   \n",
       "50%       130.000000    1.303670e+05  1.351830e+05      53.000000   \n",
       "75%       203.000000    2.030840e+05  2.026538e+05      87.000000   \n",
       "max       272.000000    2.373711e+06  2.415841e+06     114.000000   \n",
       "\n",
       "            PROD_QTY      TOT_SALES  \n",
       "count  246742.000000  246742.000000  \n",
       "mean        1.908062       7.321322  \n",
       "std         0.659831       3.077828  \n",
       "min         1.000000       1.700000  \n",
       "25%         2.000000       5.800000  \n",
       "50%         2.000000       7.400000  \n",
       "75%         2.000000       8.800000  \n",
       "max       200.000000     650.000000  "
      ],
      "text/html": "<div>\n<style scoped>\n    .dataframe tbody tr th:only-of-type {\n        vertical-align: middle;\n    }\n\n    .dataframe tbody tr th {\n        vertical-align: top;\n    }\n\n    .dataframe thead th {\n        text-align: right;\n    }\n</style>\n<table border=\"1\" class=\"dataframe\">\n  <thead>\n    <tr style=\"text-align: right;\">\n      <th></th>\n      <th>STORE_NBR</th>\n      <th>LYLTY_CARD_NBR</th>\n      <th>TXN_ID</th>\n      <th>PROD_NBR</th>\n      <th>PROD_QTY</th>\n      <th>TOT_SALES</th>\n    </tr>\n  </thead>\n  <tbody>\n    <tr>\n      <th>count</th>\n      <td>246742.000000</td>\n      <td>2.467420e+05</td>\n      <td>2.467420e+05</td>\n      <td>246742.000000</td>\n      <td>246742.000000</td>\n      <td>246742.000000</td>\n    </tr>\n    <tr>\n      <th>mean</th>\n      <td>135.051098</td>\n      <td>1.355310e+05</td>\n      <td>1.351311e+05</td>\n      <td>56.351789</td>\n      <td>1.908062</td>\n      <td>7.321322</td>\n    </tr>\n    <tr>\n      <th>std</th>\n      <td>76.787096</td>\n      <td>8.071528e+04</td>\n      <td>7.814772e+04</td>\n      <td>33.695428</td>\n      <td>0.659831</td>\n      <td>3.077828</td>\n    </tr>\n    <tr>\n      <th>min</th>\n      <td>1.000000</td>\n      <td>1.000000e+03</td>\n      <td>1.000000e+00</td>\n      <td>1.000000</td>\n      <td>1.000000</td>\n      <td>1.700000</td>\n    </tr>\n    <tr>\n      <th>25%</th>\n      <td>70.000000</td>\n      <td>7.001500e+04</td>\n      <td>6.756925e+04</td>\n      <td>26.000000</td>\n      <td>2.000000</td>\n      <td>5.800000</td>\n    </tr>\n    <tr>\n      <th>50%</th>\n      <td>130.000000</td>\n      <td>1.303670e+05</td>\n      <td>1.351830e+05</td>\n      <td>53.000000</td>\n      <td>2.000000</td>\n      <td>7.400000</td>\n    </tr>\n    <tr>\n      <th>75%</th>\n      <td>203.000000</td>\n      <td>2.030840e+05</td>\n      <td>2.026538e+05</td>\n      <td>87.000000</td>\n      <td>2.000000</td>\n      <td>8.800000</td>\n    </tr>\n    <tr>\n      <th>max</th>\n      <td>272.000000</td>\n      <td>2.373711e+06</td>\n      <td>2.415841e+06</td>\n      <td>114.000000</td>\n      <td>200.000000</td>\n      <td>650.000000</td>\n    </tr>\n  </tbody>\n</table>\n</div>"
     },
     "metadata": {},
     "execution_count": 21
    }
   ],
   "source": [
    "filtered_data.describe()"
   ]
  },
  {
   "source": [
    "<h2>Checking the PROD_QTY column which shows a max of 200</h2>"
   ],
   "cell_type": "markdown",
   "metadata": {}
  },
  {
   "cell_type": "code",
   "execution_count": 23,
   "metadata": {},
   "outputs": [
    {
     "output_type": "execute_result",
     "data": {
      "text/plain": [
       "            DATE  STORE_NBR  LYLTY_CARD_NBR  TXN_ID  PROD_NBR  \\\n",
       "69762 2018-08-19        226          226000  226201         4   \n",
       "69763 2019-05-20        226          226000  226210         4   \n",
       "\n",
       "                              PROD_NAME  PROD_QTY  TOT_SALES  \n",
       "69762  Dorito Corn Chp     Supreme 380g       200      650.0  \n",
       "69763  Dorito Corn Chp     Supreme 380g       200      650.0  "
      ],
      "text/html": "<div>\n<style scoped>\n    .dataframe tbody tr th:only-of-type {\n        vertical-align: middle;\n    }\n\n    .dataframe tbody tr th {\n        vertical-align: top;\n    }\n\n    .dataframe thead th {\n        text-align: right;\n    }\n</style>\n<table border=\"1\" class=\"dataframe\">\n  <thead>\n    <tr style=\"text-align: right;\">\n      <th></th>\n      <th>DATE</th>\n      <th>STORE_NBR</th>\n      <th>LYLTY_CARD_NBR</th>\n      <th>TXN_ID</th>\n      <th>PROD_NBR</th>\n      <th>PROD_NAME</th>\n      <th>PROD_QTY</th>\n      <th>TOT_SALES</th>\n    </tr>\n  </thead>\n  <tbody>\n    <tr>\n      <th>69762</th>\n      <td>2018-08-19</td>\n      <td>226</td>\n      <td>226000</td>\n      <td>226201</td>\n      <td>4</td>\n      <td>Dorito Corn Chp     Supreme 380g</td>\n      <td>200</td>\n      <td>650.0</td>\n    </tr>\n    <tr>\n      <th>69763</th>\n      <td>2019-05-20</td>\n      <td>226</td>\n      <td>226000</td>\n      <td>226210</td>\n      <td>4</td>\n      <td>Dorito Corn Chp     Supreme 380g</td>\n      <td>200</td>\n      <td>650.0</td>\n    </tr>\n  </tbody>\n</table>\n</div>"
     },
     "metadata": {},
     "execution_count": 23
    }
   ],
   "source": [
    "filtered_data.loc[filtered_data.PROD_QTY==200]"
   ]
  },
  {
   "source": [
    "<h2>Filtering the data for this customer as it could be a commercial buyer</h2>"
   ],
   "cell_type": "markdown",
   "metadata": {}
  },
  {
   "cell_type": "code",
   "execution_count": 38,
   "metadata": {},
   "outputs": [],
   "source": [
    "commercial_filtered = filtered_data[~(filtered_data.LYLTY_CARD_NBR == 226000)]"
   ]
  },
  {
   "cell_type": "code",
   "execution_count": 39,
   "metadata": {},
   "outputs": [
    {
     "output_type": "execute_result",
     "data": {
      "text/plain": [
       "        DATE  STORE_NBR  LYLTY_CARD_NBR  TXN_ID  PROD_NBR  \\\n",
       "0 2018-10-17          1            1000       1         5   \n",
       "1 2019-05-14          1            1307     348        66   \n",
       "2 2019-05-20          1            1343     383        61   \n",
       "3 2018-08-17          2            2373     974        69   \n",
       "4 2018-08-18          2            2426    1038       108   \n",
       "\n",
       "                                  PROD_NAME  PROD_QTY  TOT_SALES  \n",
       "0   Natural Chip        Compny SeaSalt 175g         2        6.0  \n",
       "1                  CCs Nacho Cheese    175g         3        6.3  \n",
       "2    Smiths Crinkle Cut  Chips Chicken 170g         2        2.9  \n",
       "3    Smiths Chip Thinly  S/Cream&Onion 175g         5       15.0  \n",
       "4  Kettle Tortilla ChpsHny&Jlpno Chili 150g         3       13.8  "
      ],
      "text/html": "<div>\n<style scoped>\n    .dataframe tbody tr th:only-of-type {\n        vertical-align: middle;\n    }\n\n    .dataframe tbody tr th {\n        vertical-align: top;\n    }\n\n    .dataframe thead th {\n        text-align: right;\n    }\n</style>\n<table border=\"1\" class=\"dataframe\">\n  <thead>\n    <tr style=\"text-align: right;\">\n      <th></th>\n      <th>DATE</th>\n      <th>STORE_NBR</th>\n      <th>LYLTY_CARD_NBR</th>\n      <th>TXN_ID</th>\n      <th>PROD_NBR</th>\n      <th>PROD_NAME</th>\n      <th>PROD_QTY</th>\n      <th>TOT_SALES</th>\n    </tr>\n  </thead>\n  <tbody>\n    <tr>\n      <th>0</th>\n      <td>2018-10-17</td>\n      <td>1</td>\n      <td>1000</td>\n      <td>1</td>\n      <td>5</td>\n      <td>Natural Chip        Compny SeaSalt 175g</td>\n      <td>2</td>\n      <td>6.0</td>\n    </tr>\n    <tr>\n      <th>1</th>\n      <td>2019-05-14</td>\n      <td>1</td>\n      <td>1307</td>\n      <td>348</td>\n      <td>66</td>\n      <td>CCs Nacho Cheese    175g</td>\n      <td>3</td>\n      <td>6.3</td>\n    </tr>\n    <tr>\n      <th>2</th>\n      <td>2019-05-20</td>\n      <td>1</td>\n      <td>1343</td>\n      <td>383</td>\n      <td>61</td>\n      <td>Smiths Crinkle Cut  Chips Chicken 170g</td>\n      <td>2</td>\n      <td>2.9</td>\n    </tr>\n    <tr>\n      <th>3</th>\n      <td>2018-08-17</td>\n      <td>2</td>\n      <td>2373</td>\n      <td>974</td>\n      <td>69</td>\n      <td>Smiths Chip Thinly  S/Cream&amp;Onion 175g</td>\n      <td>5</td>\n      <td>15.0</td>\n    </tr>\n    <tr>\n      <th>4</th>\n      <td>2018-08-18</td>\n      <td>2</td>\n      <td>2426</td>\n      <td>1038</td>\n      <td>108</td>\n      <td>Kettle Tortilla ChpsHny&amp;Jlpno Chili 150g</td>\n      <td>3</td>\n      <td>13.8</td>\n    </tr>\n  </tbody>\n</table>\n</div>"
     },
     "metadata": {},
     "execution_count": 39
    }
   ],
   "source": [
    "commerical_filtered.head()"
   ]
  },
  {
   "cell_type": "code",
   "execution_count": 40,
   "metadata": {},
   "outputs": [],
   "source": [
    "commercial_filtered.to_excel('Final_data.xlsx')"
   ]
  },
  {
   "cell_type": "code",
   "execution_count": 41,
   "metadata": {},
   "outputs": [
    {
     "output_type": "execute_result",
     "data": {
      "text/plain": [
       "246740"
      ]
     },
     "metadata": {},
     "execution_count": 41
    }
   ],
   "source": [
    "len(commercial_filtered)"
   ]
  },
  {
   "source": [
    "<h2>Inspecting the date values</h2>"
   ],
   "cell_type": "markdown",
   "metadata": {}
  },
  {
   "cell_type": "code",
   "execution_count": 43,
   "metadata": {},
   "outputs": [],
   "source": [
    "Refer_col = pd.date_range(start='2018-07-01', end='2019-06-30')"
   ]
  },
  {
   "cell_type": "code",
   "execution_count": 46,
   "metadata": {},
   "outputs": [],
   "source": [
    "grouped_data = commerical_filtered.groupby(pd.Grouper(key='DATE',freq='D')).count()"
   ]
  },
  {
   "cell_type": "code",
   "execution_count": 47,
   "metadata": {},
   "outputs": [],
   "source": [
    "grouped_data['REF_DATE'] = Refer_col"
   ]
  },
  {
   "source": [
    "<h3>THe count for missing dates should be zero</h3>"
   ],
   "cell_type": "markdown",
   "metadata": {}
  },
  {
   "cell_type": "code",
   "execution_count": 52,
   "metadata": {},
   "outputs": [
    {
     "output_type": "execute_result",
     "data": {
      "text/plain": [
       "            STORE_NBR  LYLTY_CARD_NBR  TXN_ID  PROD_NBR  PROD_NAME  PROD_QTY  \\\n",
       "DATE                                                                           \n",
       "2018-12-25          0               0       0         0          0         0   \n",
       "\n",
       "            TOT_SALES   REF_DATE  \n",
       "DATE                              \n",
       "2018-12-25          0 2018-12-25  "
      ],
      "text/html": "<div>\n<style scoped>\n    .dataframe tbody tr th:only-of-type {\n        vertical-align: middle;\n    }\n\n    .dataframe tbody tr th {\n        vertical-align: top;\n    }\n\n    .dataframe thead th {\n        text-align: right;\n    }\n</style>\n<table border=\"1\" class=\"dataframe\">\n  <thead>\n    <tr style=\"text-align: right;\">\n      <th></th>\n      <th>STORE_NBR</th>\n      <th>LYLTY_CARD_NBR</th>\n      <th>TXN_ID</th>\n      <th>PROD_NBR</th>\n      <th>PROD_NAME</th>\n      <th>PROD_QTY</th>\n      <th>TOT_SALES</th>\n      <th>REF_DATE</th>\n    </tr>\n    <tr>\n      <th>DATE</th>\n      <th></th>\n      <th></th>\n      <th></th>\n      <th></th>\n      <th></th>\n      <th></th>\n      <th></th>\n      <th></th>\n    </tr>\n  </thead>\n  <tbody>\n    <tr>\n      <th>2018-12-25</th>\n      <td>0</td>\n      <td>0</td>\n      <td>0</td>\n      <td>0</td>\n      <td>0</td>\n      <td>0</td>\n      <td>0</td>\n      <td>2018-12-25</td>\n    </tr>\n  </tbody>\n</table>\n</div>"
     },
     "metadata": {},
     "execution_count": 52
    }
   ],
   "source": [
    "grouped_data[grouped_data.TOT_SALES==0]"
   ]
  },
  {
   "cell_type": "code",
   "execution_count": 49,
   "metadata": {},
   "outputs": [],
   "source": [
    "grouped_data.to_excel('date_checl.xlsx')"
   ]
  },
  {
   "source": [
    "<h1> Merging the data and splitting the PROD_NAME column into brands and size is done using Tableau.</h1>"
   ],
   "cell_type": "markdown",
   "metadata": {}
  },
  {
   "source": [],
   "cell_type": "markdown",
   "metadata": {}
  }
 ]
}